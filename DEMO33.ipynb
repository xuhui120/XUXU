{
 "cells": [
  {
   "cell_type": "code",
   "execution_count": null,
   "metadata": {},
   "outputs": [],
   "source": [
    "import numpy as np"
   ]
  },
  {
   "cell_type": "code",
   "execution_count": 21,
   "metadata": {},
   "outputs": [],
   "source": [
    "from numpy import float64\n"
   ]
  },
  {
   "cell_type": "code",
   "execution_count": 57,
   "metadata": {},
   "outputs": [],
   "source": [
    "import random\n"
   ]
  },
  {
   "cell_type": "code",
   "execution_count": 61,
   "metadata": {},
   "outputs": [],
   "source": [
    "import matplotlib.pyplot as plot\n"
   ]
  },
  {
   "cell_type": "code",
   "execution_count": 62,
   "metadata": {},
   "outputs": [],
   "source": [
    "arr1=np.array(([1,2],[3,4]),dtype= np.float)"
   ]
  },
  {
   "cell_type": "code",
   "execution_count": 63,
   "metadata": {},
   "outputs": [
    {
     "name": "stdout",
     "output_type": "stream",
     "text": [
      "[[1. 2.]\n",
      " [3. 4.]]\n"
     ]
    }
   ],
   "source": [
    "print(arr1)"
   ]
  },
  {
   "cell_type": "code",
   "execution_count": 64,
   "metadata": {},
   "outputs": [],
   "source": [
    "arr2 = np.zeros((6,6))"
   ]
  },
  {
   "cell_type": "code",
   "execution_count": 65,
   "metadata": {},
   "outputs": [
    {
     "name": "stdout",
     "output_type": "stream",
     "text": [
      "[[0. 0. 0. 0. 0. 0.]\n",
      " [0. 0. 0. 0. 0. 0.]\n",
      " [0. 0. 0. 0. 0. 0.]\n",
      " [0. 0. 0. 0. 0. 0.]\n",
      " [0. 0. 0. 0. 0. 0.]\n",
      " [0. 0. 0. 0. 0. 0.]]\n"
     ]
    }
   ],
   "source": [
    "print(arr2)"
   ]
  },
  {
   "cell_type": "code",
   "execution_count": 66,
   "metadata": {},
   "outputs": [],
   "source": [
    "arr3=np.ones((6,6))"
   ]
  },
  {
   "cell_type": "code",
   "execution_count": 67,
   "metadata": {},
   "outputs": [
    {
     "name": "stdout",
     "output_type": "stream",
     "text": [
      "[[1. 1. 1. 1. 1. 1.]\n",
      " [1. 1. 1. 1. 1. 1.]\n",
      " [1. 1. 1. 1. 1. 1.]\n",
      " [1. 1. 1. 1. 1. 1.]\n",
      " [1. 1. 1. 1. 1. 1.]\n",
      " [1. 1. 1. 1. 1. 1.]]\n"
     ]
    }
   ],
   "source": [
    "print(arr3)"
   ]
  },
  {
   "cell_type": "code",
   "execution_count": 68,
   "metadata": {},
   "outputs": [],
   "source": [
    "arr4= np.eye((6))"
   ]
  },
  {
   "cell_type": "code",
   "execution_count": 69,
   "metadata": {},
   "outputs": [
    {
     "name": "stdout",
     "output_type": "stream",
     "text": [
      "[[1. 0. 0. 0. 0. 0.]\n",
      " [0. 1. 0. 0. 0. 0.]\n",
      " [0. 0. 1. 0. 0. 0.]\n",
      " [0. 0. 0. 1. 0. 0.]\n",
      " [0. 0. 0. 0. 1. 0.]\n",
      " [0. 0. 0. 0. 0. 1.]]\n"
     ]
    }
   ],
   "source": [
    "print(arr4)"
   ]
  },
  {
   "cell_type": "code",
   "execution_count": 70,
   "metadata": {},
   "outputs": [],
   "source": [
    "arr5=np.arange(0,10,2)"
   ]
  },
  {
   "cell_type": "code",
   "execution_count": 71,
   "metadata": {},
   "outputs": [
    {
     "name": "stdout",
     "output_type": "stream",
     "text": [
      "[0 2 4 6 8]\n"
     ]
    }
   ],
   "source": [
    "print(arr5)"
   ]
  },
  {
   "cell_type": "code",
   "execution_count": 72,
   "metadata": {},
   "outputs": [],
   "source": [
    "arr6=np.linspace(0,10,6)"
   ]
  },
  {
   "cell_type": "code",
   "execution_count": 73,
   "metadata": {},
   "outputs": [
    {
     "name": "stdout",
     "output_type": "stream",
     "text": [
      "[ 0.  2.  4.  6.  8. 10.]\n"
     ]
    }
   ],
   "source": [
    "print(arr6)"
   ]
  },
  {
   "cell_type": "code",
   "execution_count": 74,
   "metadata": {},
   "outputs": [],
   "source": [
    "a=np.arange(0,10,1)"
   ]
  },
  {
   "cell_type": "code",
   "execution_count": 75,
   "metadata": {},
   "outputs": [
    {
     "name": "stdout",
     "output_type": "stream",
     "text": [
      "[0 1 2 3 4 5 6 7 8 9]\n"
     ]
    }
   ],
   "source": [
    "print(a)\n"
   ]
  },
  {
   "cell_type": "code",
   "execution_count": 76,
   "metadata": {},
   "outputs": [
    {
     "name": "stdout",
     "output_type": "stream",
     "text": [
      "<class 'numpy.ndarray'>\n"
     ]
    }
   ],
   "source": [
    "print(type(a))"
   ]
  },
  {
   "cell_type": "code",
   "execution_count": 77,
   "metadata": {},
   "outputs": [],
   "source": [
    "b=np.argmax(a,axis=0)"
   ]
  },
  {
   "cell_type": "code",
   "execution_count": 78,
   "metadata": {},
   "outputs": [
    {
     "name": "stdout",
     "output_type": "stream",
     "text": [
      "9\n"
     ]
    }
   ],
   "source": [
    "print(b)"
   ]
  },
  {
   "cell_type": "code",
   "execution_count": 51,
   "metadata": {},
   "outputs": [],
   "source": [
    "a[b]=0"
   ]
  },
  {
   "cell_type": "code",
   "execution_count": 52,
   "metadata": {},
   "outputs": [
    {
     "name": "stdout",
     "output_type": "stream",
     "text": [
      "[0 1 2 3 4 5 6 7 8 0]\n"
     ]
    }
   ],
   "source": [
    "print(a)"
   ]
  },
  {
   "cell_type": "code",
   "execution_count": 53,
   "metadata": {},
   "outputs": [],
   "source": [
    "x=np.array([1,2,3,2,3,4,3,4,5,6])"
   ]
  },
  {
   "cell_type": "code",
   "execution_count": 54,
   "metadata": {},
   "outputs": [],
   "source": [
    "y=np.array([7,2,10,2,7,4,9,4,9,8])"
   ]
  },
  {
   "cell_type": "code",
   "execution_count": 55,
   "metadata": {},
   "outputs": [],
   "source": [
    "dist=np.sqrt(np.sum(np.square(x-y)))"
   ]
  },
  {
   "cell_type": "code",
   "execution_count": 56,
   "metadata": {},
   "outputs": [
    {
     "name": "stdout",
     "output_type": "stream",
     "text": [
      "12.529964086141668\n"
     ]
    }
   ],
   "source": [
    "print(dist)"
   ]
  },
  {
   "cell_type": "code",
   "execution_count": 58,
   "metadata": {},
   "outputs": [],
   "source": [
    "np.random.seed(1)"
   ]
  },
  {
   "cell_type": "code",
   "execution_count": 89,
   "metadata": {},
   "outputs": [],
   "source": [
    "values=np.random.randn(1000).cumsum()"
   ]
  },
  {
   "cell_type": "code",
   "execution_count": 90,
   "metadata": {},
   "outputs": [
    {
     "name": "stdout",
     "output_type": "stream",
     "text": [
      "[ 5.07984337e-01  1.83952008e-01 -1.32712460e+00 -2.19854667e+00\n",
      " -3.06337661e+00 -2.45462753e+00 -1.89298943e+00 -3.78239046e-01\n",
      "  2.69685766e-01 -1.08196362e+00 -2.49117290e+00 -1.36044754e+00\n",
      "  2.06238660e-01 -3.15094380e-02  5.27293550e-01 -9.77597734e-01\n",
      " -2.92151949e+00 -4.09554317e+00 -4.45273069e+00 -4.97410708e+00\n",
      " -5.20422114e+00 -5.69523558e+00 -5.01593443e+00 -3.58838748e+00\n",
      " -3.55219002e+00 -1.52219253e+00 -2.15659724e+00 -2.68170063e+00\n",
      " -2.29396597e+00 -2.64876473e+00 -1.47171248e+00 -2.11282029e+00\n",
      " -7.90126307e-01 -5.95951291e-01  1.96950149e+00  1.50538658e+00\n",
      "  1.30269268e+00  1.44834449e+00 -7.32683473e-01 -1.30418346e-01\n",
      "  3.50427768e-01  4.59746132e-01 -1.08464965e+00 -2.63121069e+00\n",
      " -2.04459217e+00 -8.69413484e-01  7.25051148e-01 -1.70390376e-01\n",
      " -1.20118840e+00 -1.47312720e+00 -3.44885735e+00 -4.03778852e+00\n",
      " -3.18599888e+00 -1.55139638e+00 -1.27224093e+00  3.68312720e-01\n",
      "  7.79185658e-01  9.70549573e-01  7.99108386e-01  9.86045431e-01\n",
      "  7.31192484e-01  5.90281732e-01 -7.16101032e-02  1.87421799e-01\n",
      "  2.01870214e-01 -1.27770982e+00 -1.51841032e+00 -2.37408172e+00\n",
      " -4.42228217e+00 -3.93839852e+00 -2.37971027e+00 -9.98008095e-03\n",
      "  1.55243945e+00  6.81637896e-01  1.85688289e+00  2.97678189e+00\n",
      "  9.88952361e-01  1.85024088e+00  2.47741791e+00  2.64022616e+00\n",
      "  2.92884288e+00  2.98715026e+00  4.61908611e+00  4.21729728e+00\n",
      "  4.01735788e+00  4.02474687e+00  4.30041094e+00  2.53716114e+00\n",
      "  3.92513495e+00  4.15133471e+00  4.72045930e+00  4.91777529e+00\n",
      "  4.73133402e+00  4.37609251e+00  4.47220665e+00  4.62425899e+00\n",
      "  5.77952075e+00  6.12557849e+00  5.99208982e+00  7.97865494e+00\n",
      "  6.69922878e+00  5.35901960e+00  5.71362166e+00  5.50124837e+00\n",
      "  3.72665238e+00  3.41442272e+00  2.70376695e+00  3.83489555e+00\n",
      "  3.21364378e+00  4.26425843e+00  4.72404013e+00  4.51770922e+00\n",
      "  4.53888105e+00  4.96753978e+00  2.65950127e+00  2.98656968e+00\n",
      "  2.60745007e+00  4.40536943e+00  3.71410048e+00  4.85666440e+00\n",
      "  2.34173977e+00  3.15636479e+00  3.43246754e+00  3.18545105e+00\n",
      "  3.06456174e+00  2.80400115e+00  3.22700436e+00  3.09275580e+00\n",
      "  1.30501809e+00  1.11920723e+00  3.35392897e+00  3.40077517e+00\n",
      "  3.69156312e+00  3.25350861e+00  3.42756308e+00  3.60550864e+00\n",
      "  3.34430672e+00  4.20757011e+00  3.28449216e+00  3.15429695e+00\n",
      "  3.65935070e+00  3.39234652e+00  2.16846687e+00  2.72673109e+00\n",
      "  1.74457013e+00  1.29726197e+00  4.69114382e-01  3.58385968e-01\n",
      " -7.10000056e-02 -5.45589873e-01  1.35389055e-01  1.89799796e+00\n",
      "  1.54048374e+00  2.06313892e+00  1.70772543e+00  1.80666767e+00\n",
      "  2.93441902e+00  2.98471226e+00  2.16916490e+00  1.43923829e+00\n",
      "  8.22491867e-01  8.09187646e-01  1.66719910e+00  3.08402257e-01\n",
      " -7.28886913e-01 -1.65342812e+00 -3.40283355e+00 -2.07691086e+00\n",
      " -2.11328951e+00 -2.12510186e-01 -1.63684386e+00 -3.42661548e-01\n",
      " -1.04431008e+00 -1.45167977e+00 -2.44064422e+00 -3.39050808e+00\n",
      " -4.71425349e+00 -4.49792054e+00 -5.81212157e+00 -6.05392343e+00\n",
      " -6.06312498e+00 -5.39651429e+00 -5.29612257e+00 -4.97479674e+00\n",
      " -4.46038518e+00 -4.47763604e+00 -4.11428812e+00 -5.09400831e+00\n",
      " -5.86947875e+00 -3.97196794e+00 -3.98370216e+00 -4.69420283e+00\n",
      " -3.31432293e+00 -3.47116554e+00 -4.11765657e+00 -5.56664812e+00\n",
      " -4.78715625e+00 -5.87345716e+00 -6.41248974e+00 -5.76838975e+00\n",
      " -5.58475617e+00 -5.67118305e+00 -5.88517083e+00 -4.73924348e+00\n",
      " -2.50896933e+00 -3.05773016e+00 -2.48882607e+00 -5.60025761e-01\n",
      "  5.19031294e-01 -1.67800332e-01 -5.98480959e-01 -1.19644950e+00\n",
      " -2.10989291e+00 -2.73379806e+00 -2.47192259e+00 -3.05895159e+00\n",
      " -2.18275173e+00 -2.05949626e+00 -2.45662195e+00 -1.57053203e+00\n",
      " -1.25156020e+00 -9.86692575e-01  5.33458793e-02  6.26611328e-01\n",
      "  5.17712861e-01  1.45526770e+00  1.76458551e+00  4.68189427e+00\n",
      "  5.78058277e+00  6.93379539e+00  8.22478876e+00  8.30462837e+00\n",
      "  9.61752379e+00  9.64088081e+00  8.80970741e+00  8.24572095e+00\n",
      "  8.77367151e+00  7.21255162e+00  7.42090454e+00  6.69255445e+00\n",
      "  7.41077083e+00  6.66459712e+00  8.53690039e+00  9.30471851e+00\n",
      "  8.03585956e+00  9.79461891e+00  9.56736640e+00  8.83989029e+00\n",
      "  7.81609097e+00  8.38385571e+00  9.88837758e+00  9.30995060e+00\n",
      "  8.31232976e+00  7.17262967e+00  8.66903499e+00  1.03397642e+01\n",
      "  9.99129307e+00  1.05289982e+01  1.05260927e+01  1.04654624e+01\n",
      "  1.14294850e+01  1.18704410e+01  1.21999310e+01  1.19073521e+01\n",
      "  1.27229524e+01  1.24409465e+01  1.24908690e+01  1.27103465e+01\n",
      "  1.15091909e+01  1.12100959e+01  1.08974929e+01  1.09986960e+01\n",
      "  9.88687787e+00  8.70032616e+00  1.03237883e+01  1.14802319e+01\n",
      "  1.23692712e+01  1.41940900e+01  1.46136853e+01  1.45226065e+01\n",
      "  1.50047823e+01  1.31254953e+01  1.20274121e+01  1.27860492e+01\n",
      "  1.28186647e+01  1.15410283e+01  1.21995652e+01  1.31984669e+01\n",
      "  1.38663464e+01  1.38360496e+01  1.30000002e+01  1.31075951e+01\n",
      "  1.35345194e+01  1.31759306e+01  1.37789665e+01  1.40933985e+01\n",
      "  1.44265130e+01  1.23939732e+01  1.34750662e+01  1.51994580e+01\n",
      "  1.47969903e+01  1.33200913e+01  1.39590207e+01  1.34933609e+01\n",
      "  1.25263486e+01  1.37440648e+01  1.23606855e+01  1.30781141e+01\n",
      "  1.18303800e+01  1.32926480e+01  1.38092004e+01  1.35518054e+01\n",
      "  1.37011754e+01  1.42832628e+01  1.51131571e+01  1.59409486e+01\n",
      "  1.64876788e+01  1.60102972e+01  1.66743767e+01  1.53630523e+01\n",
      "  1.63671454e+01  1.72401513e+01  1.86342323e+01  1.80454527e+01\n",
      "  1.82316644e+01  1.90899504e+01  1.94078083e+01  1.89811410e+01\n",
      "  1.92884721e+01  1.93565041e+01  2.03522081e+01  1.97237455e+01\n",
      "  2.00632333e+01  2.03561644e+01  2.11134926e+01  2.10406003e+01\n",
      "  2.11679149e+01  2.10969653e+01  2.11310311e+01  2.11393903e+01\n",
      "  2.08126457e+01  2.36399455e+01  2.27960341e+01  2.16226241e+01\n",
      "  2.08269975e+01  2.01169450e+01  2.01283816e+01  2.15593144e+01\n",
      "  2.32476981e+01  2.34850225e+01  2.09868098e+01  2.13711691e+01\n",
      "  2.00605146e+01  1.95598130e+01  1.84100902e+01  1.88357128e+01\n",
      "  1.82091053e+01  1.89812250e+01  1.94585274e+01  1.92184579e+01\n",
      "  1.92990182e+01  2.02164380e+01  1.98443061e+01  2.07599250e+01\n",
      "  2.07406090e+01  2.10100064e+01  2.18092473e+01  2.31407798e+01\n",
      "  2.36615920e+01  2.37199639e+01  2.44406498e+01  2.28952022e+01\n",
      "  2.45341638e+01  2.32086725e+01  2.41123820e+01  2.35482180e+01\n",
      "  2.40554696e+01  2.39389022e+01  2.42424919e+01  2.34417049e+01\n",
      "  2.12810769e+01  2.16877325e+01  2.10872282e+01  2.04385924e+01\n",
      "  1.97132693e+01  2.16976806e+01  2.11154881e+01  2.14423011e+01\n",
      "  2.02818579e+01  2.18049546e+01  2.12486866e+01  1.86480448e+01\n",
      "  2.13599947e+01  2.02618461e+01  2.15707784e+01  2.23038510e+01\n",
      "  2.29560306e+01  2.27245458e+01  2.29137445e+01  2.41376805e+01\n",
      "  2.38367498e+01  2.40880595e+01  2.50163497e+01  2.50997385e+01\n",
      "  2.46747553e+01  2.61264342e+01  2.64681228e+01  2.63429502e+01\n",
      "  2.55670553e+01  2.45614581e+01  2.54552422e+01  2.64045103e+01\n",
      "  2.42337992e+01  2.36183076e+01  2.45831957e+01  2.70075024e+01\n",
      "  2.91578562e+01  3.00997223e+01  3.14730548e+01  3.09456353e+01\n",
      "  3.17201699e+01  3.04830052e+01  2.99211288e+01  3.02420999e+01\n",
      "  3.24100370e+01  3.31580003e+01  3.34318274e+01  3.32617438e+01\n",
      "  3.19393009e+01  3.25421639e+01  3.21930702e+01  3.24321149e+01\n",
      "  3.15427840e+01  3.16640389e+01  3.01270100e+01  3.06309163e+01\n",
      "  3.19506422e+01  3.28645930e+01  3.49784167e+01  3.53029703e+01\n",
      "  3.58083337e+01  3.63231985e+01  3.54434687e+01  3.75967022e+01\n",
      "  3.85852803e+01  3.83424539e+01  3.74396221e+01  3.80211314e+01\n",
      "  3.88786790e+01  3.90165638e+01  3.92026383e+01  3.90145215e+01\n",
      "  3.90117741e+01  4.03469154e+01  4.17475333e+01  4.02473564e+01\n",
      "  4.03862353e+01  3.91821340e+01  3.78464385e+01  3.84323913e+01\n",
      "  3.75908220e+01  3.44374645e+01  3.50826172e+01  3.63647590e+01\n",
      "  3.84035361e+01  3.80072429e+01  3.94526882e+01  3.68316765e+01\n",
      "  3.57882769e+01  3.63072463e+01  3.67787806e+01  3.80991985e+01\n",
      "  3.90558880e+01  3.89743179e+01  4.05035658e+01  4.11900484e+01\n",
      "  4.29071372e+01  4.21028602e+01  4.24031139e+01  4.19735182e+01\n",
      "  4.27794315e+01  4.25598793e+01  4.23080271e+01  4.09815375e+01\n",
      "  4.12897416e+01  4.24052310e+01  4.34134266e+01  4.03973946e+01\n",
      "  3.87777489e+01  4.07828894e+01  4.05952631e+01  4.04463219e+01\n",
      "  4.16116573e+01  4.18083026e+01  4.11757125e+01  4.09658655e+01\n",
      "  4.28630262e+01  4.14816350e+01  4.27828599e+01  4.24704678e+01\n",
      "  4.21992391e+01  4.40621521e+01  4.34192785e+01  4.42543369e+01\n",
      "  4.38912835e+01  4.24592164e+01  4.22931966e+01  4.34621229e+01\n",
      "  4.32762308e+01  4.38256526e+01  4.40142059e+01  4.40610373e+01\n",
      "  4.36435394e+01  4.37753217e+01  4.17424283e+01  4.12941066e+01\n",
      "  3.94901630e+01  3.97598619e+01  4.01145223e+01  3.93184571e+01\n",
      "  4.01197647e+01  4.05155953e+01  4.08091673e+01  4.04477635e+01\n",
      "  4.09205565e+01  4.19747635e+01  4.13143203e+01  4.04974759e+01\n",
      "  4.16864867e+01  3.93680582e+01  3.67507681e+01  3.49360410e+01\n",
      "  3.51177820e+01  3.52701562e+01  3.57666613e+01  3.58426386e+01\n",
      "  3.73800184e+01  3.89558018e+01  4.01148125e+01  3.89590122e+01\n",
      "  3.93225901e+01  3.84563874e+01  3.79556770e+01  3.69323148e+01\n",
      "  3.69430273e+01  3.74871513e+01  3.75658434e+01  3.63724747e+01\n",
      "  3.48464395e+01  3.40843547e+01  3.33067163e+01  3.40909895e+01\n",
      "  3.37717087e+01  3.35830423e+01  3.34261072e+01  3.45229554e+01\n",
      "  3.61590705e+01  3.65861291e+01  3.63378232e+01  3.77403247e+01\n",
      "  3.81785661e+01  3.77574693e+01  3.87680430e+01  3.89752729e+01\n",
      "  3.75412422e+01  3.81681485e+01  3.84679737e+01  3.66113323e+01\n",
      "  3.44602891e+01  3.45965901e+01  3.52799464e+01  3.58885264e+01\n",
      "  3.45275466e+01  3.41805367e+01  3.48471266e+01  3.33113744e+01\n",
      "  3.33966574e+01  3.36099867e+01  3.45337426e+01  3.20798507e+01\n",
      "  3.22248380e+01  3.42429599e+01  3.36217525e+01  3.33055132e+01\n",
      "  3.42595054e+01  3.34963628e+01  3.46533177e+01  3.51938509e+01\n",
      "  3.36197775e+01  3.37203709e+01  3.22613889e+01  3.32139367e+01\n",
      "  3.15332623e+01  2.97215086e+01  2.85842041e+01  2.77811315e+01\n",
      "  2.90960723e+01  2.90778147e+01  2.93688193e+01  3.04437190e+01\n",
      "  2.97459091e+01  2.91675834e+01  2.83201309e+01  2.91050355e+01\n",
      "  3.07383117e+01  3.09970542e+01  3.03737742e+01  2.98534132e+01\n",
      "  2.87410989e+01  2.94722443e+01  2.84093155e+01  2.81546824e+01\n",
      "  2.69857211e+01  2.50862580e+01  2.25463026e+01  2.16563411e+01\n",
      "  2.18744196e+01  2.15566040e+01  2.13330291e+01  2.02616493e+01\n",
      "  1.93299677e+01  1.82622653e+01  1.84734990e+01  2.05211538e+01\n",
      "  2.03847813e+01  1.90155009e+01  2.02881243e+01  1.92895578e+01\n",
      "  1.98470905e+01  1.94044351e+01  1.94855183e+01  2.29181817e+01\n",
      "  2.21706554e+01  2.15839750e+01  2.19592105e+01  2.19372637e+01\n",
      "  2.15311928e+01  2.08427853e+01  2.14332791e+01  2.25106557e+01\n",
      "  2.15585716e+01  2.04221385e+01  2.22520447e+01  2.08268886e+01\n",
      "  2.15422220e+01  2.19813494e+01  2.08783799e+01  2.16378734e+01\n",
      "  2.05346571e+01  1.94451060e+01  1.80555558e+01  1.88898390e+01\n",
      "  1.84404931e+01  1.95257444e+01  1.87156044e+01  1.93302670e+01\n",
      "  2.07376776e+01  2.06516641e+01  1.95262113e+01  1.91836404e+01\n",
      "  2.04403779e+01  2.11794717e+01  2.07934836e+01  1.90491112e+01\n",
      "  1.97646480e+01  2.13955543e+01  2.30441483e+01  2.34769385e+01\n",
      "  2.32859094e+01  2.24997881e+01  2.19271863e+01  2.02774360e+01\n",
      "  2.24119875e+01  2.23850231e+01  2.47694283e+01  2.46949309e+01\n",
      "  2.30766129e+01  2.49381780e+01  2.40783510e+01  2.36404428e+01\n",
      "  2.52889939e+01  2.67477671e+01  2.47215607e+01  2.47226155e+01\n",
      "  2.36330805e+01  2.41722187e+01  2.59843958e+01  2.54669059e+01\n",
      "  2.69601287e+01  2.60314845e+01  2.82037550e+01  2.73781011e+01\n",
      "  2.69147631e+01  2.72117205e+01  2.58111261e+01  2.73607349e+01\n",
      "  2.62907180e+01  2.69046696e+01  2.56155395e+01  2.57253225e+01\n",
      "  2.57147963e+01  2.53265554e+01  2.58157746e+01  2.46989423e+01\n",
      "  2.62208081e+01  2.64232554e+01  2.36318114e+01  2.56373730e+01\n",
      "  2.60900866e+01  2.76436518e+01  2.74667153e+01  2.52040999e+01\n",
      "  2.47843821e+01  2.35583121e+01  2.35198297e+01  2.30371028e+01\n",
      "  2.32461151e+01  2.14817070e+01  2.15354894e+01  2.10759076e+01\n",
      "  2.17094164e+01  2.00171139e+01  1.95920429e+01  2.12504422e+01\n",
      "  2.00693794e+01  2.08074330e+01  2.21379392e+01  2.21278494e+01\n",
      "  2.31163600e+01  2.41577997e+01  2.57275552e+01  2.53597230e+01\n",
      "  2.52474239e+01  2.60515467e+01  2.53059027e+01  2.53539534e+01\n",
      "  2.46553827e+01  2.23263416e+01  2.26612568e+01  2.43636868e+01\n",
      "  2.39916221e+01  2.40759195e+01  2.36228146e+01  2.28818512e+01\n",
      "  2.30179557e+01  2.40908868e+01  2.63067301e+01  2.71332067e+01\n",
      "  2.61718429e+01  2.47448272e+01  2.60516578e+01  2.63683728e+01\n",
      "  2.57579096e+01  2.47017374e+01  2.38940151e+01  2.51274400e+01\n",
      "  2.51050806e+01  2.37046106e+01  2.45771896e+01  2.48872922e+01\n",
      "  2.45961600e+01  2.52038753e+01  2.43761913e+01  2.53400959e+01\n",
      "  2.39152350e+01  2.30117923e+01  2.16349093e+01  2.12183502e+01\n",
      "  2.04608992e+01  2.00982533e+01  2.01030211e+01  2.06572736e+01\n",
      "  2.08038057e+01  2.10556654e+01  2.26599893e+01  2.23934988e+01\n",
      "  2.09351628e+01  2.18865447e+01  2.37224142e+01  2.39097029e+01\n",
      "  2.47492371e+01  2.40936204e+01  2.42792958e+01  2.49163211e+01\n",
      "  2.52948967e+01  2.47551990e+01  2.63858288e+01  2.65586449e+01\n",
      "  2.74888431e+01  2.78946221e+01  2.87682963e+01  2.97015496e+01\n",
      "  2.94853945e+01  3.03190733e+01  3.24795290e+01  3.44785210e+01\n",
      "  3.52425624e+01  3.69298177e+01  3.56218463e+01  3.70942426e+01\n",
      "  3.71691187e+01  3.53821833e+01  3.55473939e+01  3.65236902e+01\n",
      "  3.58276625e+01  3.77647941e+01  3.91140218e+01  3.78389079e+01\n",
      "  3.88479982e+01  3.89599709e+01  3.84082906e+01  3.80916590e+01\n",
      "  3.76466640e+01  3.64303930e+01  3.59820699e+01  3.66747588e+01\n",
      "  3.81007008e+01  3.95590391e+01  3.89856784e+01  3.88684307e+01\n",
      "  3.80090594e+01  3.90390619e+01  3.73909090e+01  3.60276324e+01\n",
      "  3.53917857e+01  3.56432592e+01  3.53221112e+01  3.53551751e+01\n",
      "  3.54027097e+01  3.56359894e+01  3.46015265e+01  3.42621667e+01\n",
      "  3.48397790e+01  3.51200082e+01  3.62133148e+01  3.54670905e+01\n",
      "  3.63733520e+01  3.78399767e+01  3.76973864e+01  3.79633165e+01\n",
      "  3.81885060e+01  3.87241766e+01  3.91120977e+01  4.05815854e+01\n",
      "  4.10949503e+01  4.19594520e+01  4.22909788e+01  4.12492085e+01\n",
      "  4.16825688e+01  4.14526128e+01  4.08175254e+01  3.99231547e+01\n",
      "  3.98527577e+01  3.92452936e+01  4.12849658e+01  4.28817377e+01\n",
      "  4.26148074e+01  4.33239646e+01  4.44809271e+01  4.43080877e+01\n",
      "  4.61563211e+01  4.70784315e+01  4.69767224e+01  4.51774232e+01\n",
      "  4.42114680e+01  4.45301606e+01  4.40918966e+01  4.40711433e+01\n",
      "  4.32838298e+01  4.35307525e+01  4.30724505e+01  4.15197446e+01\n",
      "  4.11781014e+01  4.06060755e+01  3.90544178e+01  4.04775950e+01\n",
      "  4.04015441e+01  4.00746780e+01  4.08250528e+01  4.07424576e+01\n",
      "  4.15097512e+01  4.00290966e+01  3.89924407e+01  3.95376683e+01\n",
      "  4.10295657e+01  4.10595772e+01  4.12760114e+01  4.04525675e+01\n",
      "  4.04226317e+01  3.97136949e+01  3.95534568e+01  4.02757370e+01\n",
      "  3.82769730e+01  3.84899987e+01  3.76854572e+01  3.70388749e+01\n",
      "  3.81770477e+01  3.84724874e+01  3.94061170e+01  3.76423423e+01\n",
      "  3.72321255e+01  3.67784583e+01  3.61890287e+01  3.66292632e+01\n",
      "  3.75251847e+01  3.64184058e+01  3.54557432e+01  3.42037858e+01\n",
      "  3.53513925e+01  3.48366575e+01  3.47352768e+01  3.44030661e+01\n",
      "  3.34394095e+01  3.38126705e+01  3.41956973e+01  3.51370229e+01\n",
      "  3.49116028e+01  3.46145154e+01  3.40289937e+01  3.55171352e+01\n",
      "  3.65247022e+01  3.64843170e+01  3.71332906e+01  3.65474469e+01\n",
      "  3.86019216e+01  3.80103554e+01  3.76306664e+01  3.72596349e+01\n",
      "  3.89608699e+01  3.91084723e+01  4.01928909e+01  4.00827939e+01\n",
      "  3.88698189e+01  3.96452991e+01  3.90188426e+01  3.77003201e+01\n",
      "  3.72842445e+01  3.79159016e+01  3.96801867e+01  3.82927087e+01\n",
      "  3.60936508e+01  3.70238078e+01  3.73238590e+01  3.67603861e+01\n",
      "  3.71787480e+01  3.79081911e+01  3.98202598e+01  3.96899179e+01\n",
      "  4.09697181e+01  4.05179621e+01  4.00082934e+01  4.04320668e+01\n",
      "  3.93170993e+01  3.80151403e+01  3.89783334e+01  3.70152583e+01\n",
      "  3.71286066e+01  3.68038643e+01  3.64308441e+01  3.50985388e+01\n",
      "  3.30626364e+01  3.24017279e+01  3.12365099e+01  3.08110909e+01\n",
      "  3.08991270e+01  3.01573668e+01  2.90848415e+01  2.93748828e+01\n",
      "  2.86130481e+01  2.76535163e+01  2.73543630e+01  2.76398545e+01\n",
      "  2.97486029e+01  3.13621645e+01  3.00987835e+01  2.87745343e+01\n",
      "  2.88392517e+01  2.93962506e+01  2.92645450e+01  3.14368778e+01\n",
      "  3.26139481e+01  3.42540054e+01  3.38361348e+01  3.29392552e+01\n",
      "  3.18689669e+01  3.17551854e+01  3.04968354e+01  2.98630434e+01\n",
      "  2.94322737e+01  3.03765584e+01  2.99036828e+01  2.84966187e+01\n",
      "  2.80491454e+01  2.82377284e+01  2.87986464e+01  2.78769874e+01\n",
      "  2.85243625e+01  2.99111881e+01  3.04007047e+01  3.06395005e+01]\n"
     ]
    }
   ],
   "source": [
    "print(values)"
   ]
  },
  {
   "cell_type": "code",
   "execution_count": 91,
   "metadata": {},
   "outputs": [
    {
     "data": {
      "text/plain": [
       "[<matplotlib.lines.Line2D at 0x1bb6f21fd08>]"
      ]
     },
     "execution_count": 91,
     "metadata": {},
     "output_type": "execute_result"
    },
    {
     "data": {
      "image/png": "[encoded data removed]",
      "text/plain": [
       "<Figure size 432x288 with 1 Axes>"
      ]
     },
     "metadata": {
      "needs_background": "light"
     },
     "output_type": "display_data"
    }
   ],
   "source": [
    "plot.plot(values)"
   ]
  }
 ],
 "metadata": {
  "kernelspec": {
   "display_name": "Python 3",
   "language": "python",
   "name": "python3"
  },
  "language_info": {
   "codemirror_mode": {
    "name": "ipython",
    "version": 3
   },
   "file_extension": ".py",
   "mimetype": "text/x-python",
   "name": "python",
   "nbconvert_exporter": "python",
   "pygments_lexer": "ipython3",
   "version": "3.7.6"
  }
 },
 "nbformat": 4,
 "nbformat_minor": 4
}
