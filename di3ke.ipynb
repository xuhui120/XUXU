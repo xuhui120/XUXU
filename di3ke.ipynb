{
 "cells": [
  {
   "cell_type": "code",
   "execution_count": 1,
   "metadata": {},
   "outputs": [],
   "source": [
    "import numpy as np"
   ]
  },
  {
   "cell_type": "code",
   "execution_count": 2,
   "metadata": {},
   "outputs": [],
   "source": [
    "import pandas as pd\n"
   ]
  },
  {
   "cell_type": "code",
   "execution_count": 3,
   "metadata": {},
   "outputs": [],
   "source": [
    "import random"
   ]
  },
  {
   "cell_type": "code",
   "execution_count": null,
   "metadata": {},
   "outputs": [],
   "source": [
    "################################11111"
   ]
  },
  {
   "cell_type": "code",
   "execution_count": 5,
   "metadata": {},
   "outputs": [
    {
     "name": "stdout",
     "output_type": "stream",
     "text": [
      "[6 5 7 7 4]\n"
     ]
    }
   ],
   "source": [
    "data1=np.random.randint(3,10,5)\n",
    "print(data1)"
   ]
  },
  {
   "cell_type": "code",
   "execution_count": 8,
   "metadata": {},
   "outputs": [
    {
     "name": "stdout",
     "output_type": "stream",
     "text": [
      "a    6\n",
      "b    5\n",
      "c    7\n",
      "d    7\n",
      "e    4\n",
      "dtype: int32\n"
     ]
    }
   ],
   "source": [
    "s1=pd.Series(data1,index=[\"a\",\"b\",\"c\",\"d\",\"e\"])\n",
    "print(s1)"
   ]
  },
  {
   "cell_type": "code",
   "execution_count": null,
   "metadata": {},
   "outputs": [],
   "source": [
    "#################################################2222"
   ]
  },
  {
   "cell_type": "code",
   "execution_count": 14,
   "metadata": {},
   "outputs": [
    {
     "data": {
      "text/plain": [
       "c    7\n",
       "d    7\n",
       "e    4\n",
       "dtype: int32"
      ]
     },
     "execution_count": 14,
     "metadata": {},
     "output_type": "execute_result"
    }
   ],
   "source": [
    "s1[-3:]"
   ]
  },
  {
   "cell_type": "code",
   "execution_count": 16,
   "metadata": {},
   "outputs": [
    {
     "data": {
      "text/plain": [
       "c    7\n",
       "d    7\n",
       "e    4\n",
       "dtype: int32"
      ]
     },
     "execution_count": 16,
     "metadata": {},
     "output_type": "execute_result"
    }
   ],
   "source": [
    "s1[\"c\":\"e\"]"
   ]
  },
  {
   "cell_type": "code",
   "execution_count": null,
   "metadata": {},
   "outputs": [],
   "source": [
    "#######################################3333333"
   ]
  },
  {
   "cell_type": "code",
   "execution_count": 29,
   "metadata": {},
   "outputs": [
    {
     "data": {
      "text/html": [
       "<div>\n",
       "<style scoped>\n",
       "    .dataframe tbody tr th:only-of-type {\n",
       "        vertical-align: middle;\n",
       "    }\n",
       "\n",
       "    .dataframe tbody tr th {\n",
       "        vertical-align: top;\n",
       "    }\n",
       "\n",
       "    .dataframe thead th {\n",
       "        text-align: right;\n",
       "    }\n",
       "</style>\n",
       "<table border=\"1\" class=\"dataframe\">\n",
       "  <thead>\n",
       "    <tr style=\"text-align: right;\">\n",
       "      <th></th>\n",
       "      <th>year</th>\n",
       "      <th>price</th>\n",
       "    </tr>\n",
       "  </thead>\n",
       "  <tbody>\n",
       "    <tr>\n",
       "      <th>0</th>\n",
       "      <td>2017</td>\n",
       "      <td>10</td>\n",
       "    </tr>\n",
       "    <tr>\n",
       "      <th>1</th>\n",
       "      <td>2018</td>\n",
       "      <td>20</td>\n",
       "    </tr>\n",
       "    <tr>\n",
       "      <th>2</th>\n",
       "      <td>2019</td>\n",
       "      <td>30</td>\n",
       "    </tr>\n",
       "  </tbody>\n",
       "</table>\n",
       "</div>"
      ],
      "text/plain": [
       "   year  price\n",
       "0  2017     10\n",
       "1  2018     20\n",
       "2  2019     30"
      ]
     },
     "execution_count": 29,
     "metadata": {},
     "output_type": "execute_result"
    }
   ],
   "source": [
    "data={\"year\":pd.Series(np.arange(2017,2020,1),index=list(\"012\")),\n",
    "      \"price\":pd.Series(np.arange(10,40,10),index=list(\"012\"))}\n",
    "pd.DataFrame(data)"
   ]
  },
  {
   "cell_type": "code",
   "execution_count": null,
   "metadata": {},
   "outputs": [],
   "source": [
    "#######################################444444444"
   ]
  },
  {
   "cell_type": "code",
   "execution_count": 18,
   "metadata": {},
   "outputs": [
    {
     "name": "stdout",
     "output_type": "stream",
     "text": [
      "[[ 8  6 14]\n",
      " [12 11 13]\n",
      " [13 14  5]\n",
      " [13  5 10]\n",
      " [ 6 11 14]]\n"
     ]
    }
   ],
   "source": [
    "data2=np.random.randint(5,15,(5,3))\n",
    "print(data2)"
   ]
  },
  {
   "cell_type": "code",
   "execution_count": 30,
   "metadata": {},
   "outputs": [
    {
     "name": "stdout",
     "output_type": "stream",
     "text": [
      "   one  two  three\n",
      "a    8    6     14\n",
      "b   12   11     13\n",
      "c   13   14      5\n",
      "d   13    5     10\n",
      "e    6   11     14\n"
     ]
    }
   ],
   "source": [
    "df_test=pd.DataFrame(data2,index=list(\"abcde\"),columns=[\"one\",\"two\",\"three\"])\n",
    "print(df_test)"
   ]
  },
  {
   "cell_type": "code",
   "execution_count": null,
   "metadata": {},
   "outputs": [],
   "source": [
    "################################555555"
   ]
  },
  {
   "cell_type": "code",
   "execution_count": 40,
   "metadata": {},
   "outputs": [
    {
     "name": "stdout",
     "output_type": "stream",
     "text": [
      "  one  two  three  four\n",
      "a     -100     14  test\n",
      "b  12   11     13  test\n",
      "c  13  -99    -99  test\n",
      "d  13    5     10  test\n",
      "e   6   11     14  test\n"
     ]
    }
   ],
   "source": [
    "df_test.loc[\"a\",\"one\"]=\" \"\n",
    "df_test.loc[\"c\",\"two\"]=-99\n",
    "df_test.loc[\"c\",\"three\"]=-99\n",
    "df_test.loc[\"a\",\"two\"]=-100\n",
    "df_test[\"four\"]=\"test\"\n",
    "print(df_test)\n"
   ]
  },
  {
   "cell_type": "code",
   "execution_count": 46,
   "metadata": {},
   "outputs": [
    {
     "name": "stdout",
     "output_type": "stream",
     "text": [
      "   one    two  three  four\n",
      "a      -100.0   14.0  test\n",
      "b   12   11.0   13.0  test\n",
      "c   13  -99.0  -99.0  test\n",
      "d   13    5.0   10.0  test\n",
      "e    6   11.0   14.0  test\n",
      "f  NaN    NaN    NaN   NaN\n",
      "g  NaN    NaN    NaN   NaN\n",
      "h  NaN    NaN    NaN   NaN\n"
     ]
    }
   ],
   "source": [
    "df_change=df_test.reindex([\"a\",\"b\",\"c\",\"d\",\"e\",\"f\",\"g\",\"h\"])\n",
    "print(df_change)"
   ]
  },
  {
   "cell_type": "code",
   "execution_count": null,
   "metadata": {},
   "outputs": [],
   "source": [
    "#######################################666666"
   ]
  },
  {
   "cell_type": "code",
   "execution_count": 50,
   "metadata": {},
   "outputs": [
    {
     "name": "stdout",
     "output_type": "stream",
     "text": [
      "  one    two  three  four\n",
      "a     -100.0   14.0  test\n",
      "b  12   11.0   13.0  test\n",
      "c  13  -99.0  -99.0  test\n",
      "d  13    5.0   10.0  test\n",
      "e   6   11.0   14.0  test\n"
     ]
    }
   ],
   "source": [
    "df1=df_change.dropna()\n",
    "print(df1)"
   ]
  },
  {
   "cell_type": "code",
   "execution_count": 48,
   "metadata": {},
   "outputs": [],
   "source": [
    "###################77777777\n"
   ]
  },
  {
   "cell_type": "code",
   "execution_count": 52,
   "metadata": {},
   "outputs": [
    {
     "name": "stdout",
     "output_type": "stream",
     "text": [
      "  one    two  three  four\n",
      "a     -100.0   14.0  test\n",
      "b  12   11.0   13.0  test\n",
      "c  13  -99.0  -99.0  test\n",
      "d  13    5.0   10.0  test\n",
      "e   6   11.0   14.0  test\n"
     ]
    }
   ],
   "source": [
    "df2=df_change.dropna(how=\"all\")\n",
    "print(df2)"
   ]
  },
  {
   "cell_type": "code",
   "execution_count": 53,
   "metadata": {},
   "outputs": [],
   "source": [
    "###############8888888\n"
   ]
  },
  {
   "cell_type": "code",
   "execution_count": 55,
   "metadata": {},
   "outputs": [
    {
     "name": "stdout",
     "output_type": "stream",
     "text": [
      "  one    two  three  four\n",
      "a     -100.0   14.0  test\n",
      "b  12   11.0   13.0  test\n",
      "c  13  -99.0  -99.0  test\n",
      "d  13    5.0   10.0  test\n",
      "e   6   11.0   14.0  test\n",
      "f   0    0.0    0.0     0\n",
      "g   0    0.0    0.0     0\n",
      "h   0    0.0    0.0     0\n"
     ]
    }
   ],
   "source": [
    "df3=df_change.fillna(0)\n",
    "print(df3)"
   ]
  },
  {
   "cell_type": "code",
   "execution_count": null,
   "metadata": {},
   "outputs": [],
   "source": [
    "############################99999999999999999999999999999999999"
   ]
  },
  {
   "cell_type": "code",
   "execution_count": 56,
   "metadata": {},
   "outputs": [
    {
     "name": "stdout",
     "output_type": "stream",
     "text": [
      "   one    two  three  four\n",
      "a      -100.0   14.0  test\n",
      "b   12   11.0   13.0  test\n",
      "c   13  -99.0  -99.0  test\n",
      "d   13    5.0   10.0  test\n",
      "e    6   11.0   14.0  test\n",
      "f  NaN    NaN    NaN   NaN\n"
     ]
    }
   ],
   "source": [
    "newDF=df_change.drop_duplicates()\n",
    "print(newDF)"
   ]
  },
  {
   "cell_type": "code",
   "execution_count": null,
   "metadata": {},
   "outputs": [],
   "source": []
  }
 ],
 "metadata": {
  "kernelspec": {
   "display_name": "Python 3",
   "language": "python",
   "name": "python3"
  },
  "language_info": {
   "codemirror_mode": {
    "name": "ipython",
    "version": 3
   },
   "file_extension": ".py",
   "mimetype": "text/x-python",
   "name": "python",
   "nbconvert_exporter": "python",
   "pygments_lexer": "ipython3",
   "version": "3.7.6"
  }
 },
 "nbformat": 4,
 "nbformat_minor": 4
}
